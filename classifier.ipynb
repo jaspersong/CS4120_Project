{
 "cells": [
  {
   "cell_type": "markdown",
   "metadata": {},
   "source": [
    "# Classifier"
   ]
  },
  {
   "cell_type": "code",
   "execution_count": null,
   "metadata": {},
   "outputs": [],
   "source": [
    "from sklearn.ensemble import RandomForestClassifier\n",
    "\n",
    "X_train = []\n",
    "y_train = []\n",
    "X_test = []\n",
    "y_test = []\n",
    "train_filepath = \"doc2vec_outputs/cutdown_training_unigram_pos.json\"\n",
    "test_filepath = \"doc2vec_outputs/cutdown_testing_unigram_pos.json\""
   ]
  },
  {
   "cell_type": "markdown",
   "metadata": {},
   "source": [
    "Fill the data structures"
   ]
  },
  {
   "cell_type": "code",
   "execution_count": null,
   "metadata": {},
   "outputs": [],
   "source": [
    "def json_output_to_vector(json_output):\n",
    "    split_list = json_output.strip('][').split(',')\n",
    "    ret_value = []\n",
    "    for item in split_list:\n",
    "        ret_value.append(float(item))\n",
    "    return ret_value\n",
    "\n",
    "def aid_to_label(json_id):\n",
    "    return int(json_id)\n",
    "\n",
    "#read in json data, split into features and responses, and append to given lists X and y\n",
    "def fill_Xy(filepath, X, y):\n",
    "    import json\n",
    "    \n",
    "    for line in open(filepath, \"r\"):\n",
    "        data = json.loads(line)\n",
    "        X.append(json_output_to_vector(data['output']))\n",
    "        y.append(aid_to_label(data[\"author_id\"]))"
   ]
  },
  {
   "cell_type": "markdown",
   "metadata": {},
   "source": [
    "Training sets are far too large for loading all at once, fitting must be done in batches"
   ]
  },
  {
   "cell_type": "code",
   "execution_count": null,
   "metadata": {},
   "outputs": [],
   "source": [
    "#split the given sequence into segments of given length\n",
    "def split_by(sequence, length):\n",
    "    total_len = len(sequence)\n",
    "    total_seen = 0\n",
    "    iterable = iter(sequence)\n",
    "    def yield_length():\n",
    "        for i in range(length):\n",
    "            if total_seen < total_len:\n",
    "                total_seen += 1\n",
    "                yield next(iterable)\n",
    "            else:\n",
    "                return\n",
    "    while True:\n",
    "        res = list(yield_length())\n",
    "        if not res:\n",
    "            return\n",
    "        yield res"
   ]
  },
  {
   "cell_type": "markdown",
   "metadata": {},
   "source": [
    "Generate a random forest classifier for each batch"
   ]
  },
  {
   "cell_type": "code",
   "execution_count": null,
   "metadata": {},
   "outputs": [],
   "source": [
    "#train a random forest classifier on a subset of the data\n",
    "def generate_rf(X, y):\n",
    "    rf = RandomForestClassifier(n_estimators=100, max_features=None)\n",
    "    rf.fit(X, y)\n",
    "    return rf"
   ]
  },
  {
   "cell_type": "markdown",
   "metadata": {},
   "source": [
    "Combine classifiers"
   ]
  },
  {
   "cell_type": "code",
   "execution_count": null,
   "metadata": {},
   "outputs": [],
   "source": [
    "#combine two random forest classifiers\n",
    "def combine_rfs(rf_a, rf_b):\n",
    "    rf_a.estimators_ += rf_b.estimators_\n",
    "    rf_a.n_estimators = len(rf_a.estimators_)\n",
    "    return rf_a"
   ]
  },
  {
   "cell_type": "markdown",
   "metadata": {},
   "source": [
    "Put it together"
   ]
  },
  {
   "cell_type": "code",
   "execution_count": null,
   "metadata": {},
   "outputs": [],
   "source": [
    "import functools\n",
    "\n",
    "#train classifiers on batches of data and combine them\n",
    "def generate_meta_rf(X, y, batch_size):\n",
    "    rfs = [generate_rf(X_subset, y_subset) \n",
    "           for X_subset, y_subset \n",
    "           in zip([X[x:x+batch_size] for x in range(0,len(X),batch_size)],\n",
    "                  [y[x:x+batch_size] for x in range(0,len(y),batch_size)])]\n",
    "    combined = functools.reduce(combine_rfs, rfs)\n",
    "    return combined"
   ]
  },
  {
   "cell_type": "markdown",
   "metadata": {},
   "source": [
    "Prepare data"
   ]
  },
  {
   "cell_type": "code",
   "execution_count": null,
   "metadata": {},
   "outputs": [],
   "source": [
    "fill_Xy(train_filepath, X_train, y_train)\n",
    "fill_Xy(test_filepath, X_test, y_test)"
   ]
  },
  {
   "cell_type": "markdown",
   "metadata": {},
   "source": [
    "Create the meta-model"
   ]
  },
  {
   "cell_type": "code",
   "execution_count": null,
   "metadata": {},
   "outputs": [],
   "source": [
    "author_attribution = generate_meta_rf(X_train, y_train, 1000)"
   ]
  },
  {
   "cell_type": "markdown",
   "metadata": {},
   "source": [
    "Score on the test set"
   ]
  },
  {
   "cell_type": "code",
   "execution_count": null,
   "metadata": {},
   "outputs": [],
   "source": [
    "total_tests = 0\n",
    "total_correct = 0\n",
    "predictions = author_attribution.predict(X_test)\n",
    "for x, y in zip(X_test, y_test):\n",
    "    test = []\n",
    "    test.append(x)\n",
    "    pred = author_attribution.predict(X_test)\n",
    "    \n",
    "    total_tests += 1\n",
    "    if pred[0] == y:\n",
    "        total_correct += 1\n",
    "\n",
    "results = total_correct / total_tests\n",
    "print(results)"
   ]
  }
 ],
 "metadata": {
  "kernelspec": {
   "display_name": "Python 3",
   "language": "python",
   "name": "python3"
  },
  "language_info": {
   "codemirror_mode": {
    "name": "ipython",
    "version": 3
   },
   "file_extension": ".py",
   "mimetype": "text/x-python",
   "name": "python",
   "nbconvert_exporter": "python",
   "pygments_lexer": "ipython3",
   "version": "3.6.9"
  }
 },
 "nbformat": 4,
 "nbformat_minor": 4
}
